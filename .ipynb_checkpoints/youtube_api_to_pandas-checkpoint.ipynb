{
 "cells": [
  {
   "cell_type": "markdown",
   "id": "bd3fcaf0-ce56-4f18-b05f-4cac5dbb6b71",
   "metadata": {},
   "source": [
    "# <u>Imports</u>"
   ]
  },
  {
   "cell_type": "code",
   "execution_count": 1,
   "id": "88fe5997-22f7-4a84-b9a4-662b43d32d37",
   "metadata": {
    "tags": []
   },
   "outputs": [
    {
     "name": "stdout",
     "output_type": "stream",
     "text": [
      "Requirement already satisfied: python-dotenv in c:\\users\\mibai\\anaconda3\\lib\\site-packages (0.21.0)\n"
     ]
    }
   ],
   "source": [
    "!pip install python-dotenv\n",
    "import os \n",
    "from dotenv import load_dotenv\n",
    "\n",
    "import pandas as pd\n",
    "import numpy as np\n",
    "import requests\n",
    "import time\n",
    "from datetime import datetime \n",
    "pd.set_option('display.max_rows', 600)"
   ]
  },
  {
   "cell_type": "markdown",
   "id": "dedbd60d-54c0-4f2b-96d9-24f8c296ab9f",
   "metadata": {},
   "source": [
    "# <u>Load Environment Variables</u>"
   ]
  },
  {
   "cell_type": "code",
   "execution_count": 2,
   "id": "66eb0a3d-40d6-47f3-9888-72730b96f89f",
   "metadata": {},
   "outputs": [
    {
     "data": {
      "text/plain": [
       "True"
      ]
     },
     "execution_count": 2,
     "metadata": {},
     "output_type": "execute_result"
    }
   ],
   "source": [
    "load_dotenv()"
   ]
  },
  {
   "cell_type": "markdown",
   "id": "2ca26d7a-6436-4f63-877d-15a84c695c8e",
   "metadata": {},
   "source": [
    "# <u>Setting the API key and Channel ID</u>"
   ]
  },
  {
   "cell_type": "code",
   "execution_count": 3,
   "id": "959177e5-dcf1-4829-873f-6183c6b38ffb",
   "metadata": {
    "tags": []
   },
   "outputs": [],
   "source": [
    "api_key = os.getenv(\"API_KEY\")\n",
    "channel_id = \"UCP7WmQ_U4GB3K51Od9QvM0w\""
   ]
  },
  {
   "cell_type": "markdown",
   "id": "d0754112-033e-44db-94e2-4a526040cd3b",
   "metadata": {},
   "source": [
    "# <u>Creating a function to retrieve video statistics based on the video id</u>"
   ]
  },
  {
   "cell_type": "code",
   "execution_count": 4,
   "id": "97462417-2c8c-432a-89ec-d910526364b1",
   "metadata": {
    "tags": []
   },
   "outputs": [],
   "source": [
    "def video_details(api_key, video_id):\n",
    "    \n",
    "    url = \"https://www.googleapis.com/youtube/v3/videos?key=\"+api_key+\"&part=contentDetails,statistics&id=\"+video_id\n",
    "    response = requests.get(url).json()\n",
    "    \n",
    "    for video_item in response[\"items\"]:\n",
    "        video_view_count = video_item[\"statistics\"][\"viewCount\"]\n",
    "        video_like_count = video_item[\"statistics\"][\"likeCount\"]\n",
    "        video_comment_count = video_item[\"statistics\"][\"commentCount\"]\n",
    "        \n",
    "        return video_view_count, video_comment_count, video_like_count"
   ]
  },
  {
   "cell_type": "markdown",
   "id": "d9060e1f-1ba1-4225-826e-89d3849da1b5",
   "metadata": {},
   "source": [
    "# <u>Creating a function to iterate through all items in a single page of the API response</u>"
   ]
  },
  {
   "cell_type": "code",
   "execution_count": 5,
   "id": "d260a368-f61f-4b48-9eea-359df9509102",
   "metadata": {
    "tags": []
   },
   "outputs": [],
   "source": [
    "def video_list(api_key, channel_id, next_page_token):\n",
    "\n",
    "    url =\"https://www.googleapis.com/youtube/v3/search?key=\"+api_key+\"&channelId=\"+channel_id+\"&part=snippet,id&order=date&maxResults=10000&pageToken=\"+next_page_token\n",
    "    response = requests.get(url).json()\n",
    "    \n",
    "    if \"nextPageToken\" not in response.keys():\n",
    "        next_page_token = False\n",
    "    else:\n",
    "        next_page_token = response[\"nextPageToken\"]\n",
    "\n",
    "    df = pd.DataFrame(columns=[\"video_id\", \"video_title\", \"upload_date\", \"view_count\", \"like_count\", \"comment_count\"])\n",
    "    \n",
    "    for video in response[\"items\"]:\n",
    "    \n",
    "        if video[\"id\"][\"kind\"] == \"youtube#video\":\n",
    "            video_id = video[\"id\"][\"videoId\"]\n",
    "            video_title = video[\"snippet\"][\"title\"].replace(\"&#39;\", \"\")\n",
    "            video_upload_date = video[\"snippet\"][\"publishedAt\"]\\\n",
    "                                .split(\"T\")[0]\\\n",
    "                                .replace(\"-\", \"/\")\n",
    "\n",
    "            video_view_count, video_comment_count, video_like_count = video_details(api_key, video_id)\n",
    "            new_row = {\"video_id\": video_id, \"video_title\": video_title, \"upload_date\": video_upload_date, \"view_count\": video_view_count, \"like_count\": video_like_count, \"comment_count\": video_comment_count}\n",
    "            df.loc[len(df)] = new_row\n",
    "            \n",
    "    return df, next_page_token"
   ]
  },
  {
   "cell_type": "markdown",
   "id": "9f40ca27-0d29-48b2-ad3d-a4906a4134da",
   "metadata": {},
   "source": [
    "# <u>Creating a function to obtain the token for next page of API results - automates subsequent API calls</u>"
   ]
  },
  {
   "cell_type": "code",
   "execution_count": 6,
   "id": "8d9ac1f4-1927-4757-a6b3-c51fbb00107f",
   "metadata": {
    "tags": []
   },
   "outputs": [],
   "source": [
    "def retrieve_pages(api_key, channel_id, next_page_token=\"\"):\n",
    "    \n",
    "    # Make API call\n",
    "        # df is the dataframe for the page of results         \n",
    "    df, next_page_token = video_list(api_key, channel_id, next_page_token)\n",
    "    main_df = df\n",
    "    \n",
    "    # Uncomment the below function to run the next page of the API response\n",
    "    # while next_page_token:\n",
    "    #     df, next_page_token = video_list(api_key, channel_id, next_page_token) \n",
    "    #     main_df = pd.concat([main_df, df], ignore_index=True)\n",
    "    #     main_df.reset_index(drop=True, inplace=True)\n",
    "        \n",
    "    return main_df"
   ]
  },
  {
   "cell_type": "code",
   "execution_count": 7,
   "id": "c2b06762-34c3-4d2c-af52-e56f21e9e2bd",
   "metadata": {
    "tags": []
   },
   "outputs": [],
   "source": [
    "# %%time\n",
    "\n",
    "results = retrieve_pages(api_key, channel_id)"
   ]
  },
  {
   "cell_type": "markdown",
   "id": "51e26060-bf20-4ff4-81d1-190f7dc798a5",
   "metadata": {},
   "source": [
    "# <u>Connecting to the AWS Database</u>"
   ]
  },
  {
   "cell_type": "markdown",
   "id": "7da11825-ef26-493f-b7c7-3899e18ca0b5",
   "metadata": {},
   "source": [
    "### Installing the pscyopg2 package to connect to the PostgreSQL database"
   ]
  },
  {
   "cell_type": "code",
   "execution_count": 8,
   "id": "36d6ecd7-2ece-4ed3-9a6b-e75753c2ccd6",
   "metadata": {
    "tags": []
   },
   "outputs": [
    {
     "name": "stdout",
     "output_type": "stream",
     "text": [
      "Requirement already satisfied: psycopg2 in c:\\users\\mibai\\anaconda3\\lib\\site-packages (2.9.9)\n"
     ]
    }
   ],
   "source": [
    "!pip install psycopg2\n",
    "import psycopg2 as ps"
   ]
  },
  {
   "cell_type": "markdown",
   "id": "d97d78ff-8130-4486-beb4-fe002c054fa7",
   "metadata": {},
   "source": [
    "### Creating a function that will be used to connect to the AWS database"
   ]
  },
  {
   "cell_type": "code",
   "execution_count": 9,
   "id": "c747972e-d7e5-421a-88eb-26f5e6700bef",
   "metadata": {
    "tags": []
   },
   "outputs": [],
   "source": [
    "def connect_to_db(host, database, port, user, password):\n",
    "    try:\n",
    "        conn = ps.connect(host=host, database=database, port=port, user=user, password=password)\n",
    "    except ps.OperationalError as e:\n",
    "        raise e\n",
    "    else:\n",
    "        print(\"Successfully connected to database!\")\n",
    "    return conn"
   ]
  },
  {
   "cell_type": "markdown",
   "id": "281b4ef1-96bc-4d0b-b18e-0bb1daa966a4",
   "metadata": {},
   "source": [
    "### Defining function arguments and invoking the function"
   ]
  },
  {
   "cell_type": "code",
   "execution_count": 10,
   "id": "960da846-04c4-4944-9ce9-e115abe781fe",
   "metadata": {
    "tags": []
   },
   "outputs": [
    {
     "name": "stdout",
     "output_type": "stream",
     "text": [
      "Successfully connected to database!\n"
     ]
    }
   ],
   "source": [
    "host = os.getenv(\"HOST\")\n",
    "user = os.getenv(\"USER\")\n",
    "password = os.getenv(\"PASSWORD\")\n",
    "database = os.getenv(\"DATABASE\")\n",
    "port = '5432'\n",
    "\n",
    "conn = connect_to_db(host, database, port, user, password)"
   ]
  },
  {
   "cell_type": "markdown",
   "id": "e78b2420-fc5d-4668-aa6e-9eb30a5cede9",
   "metadata": {},
   "source": [
    "# <u>Creating the table</u>"
   ]
  },
  {
   "cell_type": "markdown",
   "id": "58318ab4-1816-4e4f-8105-e509e2822705",
   "metadata": {},
   "source": [
    "#### 1) Definition of function"
   ]
  },
  {
   "cell_type": "code",
   "execution_count": 11,
   "id": "5d5b36f5-f0c8-46ba-9acc-0fbecb7b91bb",
   "metadata": {
    "tags": []
   },
   "outputs": [],
   "source": [
    "def create_table(curr):\n",
    "    create_table_command = (\"\"\"CREATE TABLE IF NOT EXISTS video(\n",
    "                            video_id TEXT PRIMARY KEY,\n",
    "                            video_title TEXT,\n",
    "                            upload_date DATE,\n",
    "                            view_count INT,\n",
    "                            like_count INT,\n",
    "                            comment_count INT)\"\"\")\n",
    "    \n",
    "    curr.execute(create_table_command)"
   ]
  },
  {
   "cell_type": "markdown",
   "id": "9e8b6d30-fa86-4832-8533-2a4660715413",
   "metadata": {},
   "source": [
    "#### 2) Creating a cursor object - enabling the execution of SQL commmands via Python"
   ]
  },
  {
   "cell_type": "code",
   "execution_count": 12,
   "id": "18dd08f7-cadf-4d97-9538-1b2d5b740ab0",
   "metadata": {
    "tags": []
   },
   "outputs": [],
   "source": [
    "curr = conn.cursor()"
   ]
  },
  {
   "cell_type": "markdown",
   "id": "14be52f1-e7aa-45f2-ac7f-62da9efda71a",
   "metadata": {},
   "source": [
    "#### 3) Executing the function and passing the cursor object as the argument"
   ]
  },
  {
   "cell_type": "code",
   "execution_count": 13,
   "id": "00a0c51e-af74-4830-a17a-5bc96d44dcaf",
   "metadata": {
    "tags": []
   },
   "outputs": [],
   "source": [
    "create_table(curr)"
   ]
  },
  {
   "cell_type": "markdown",
   "id": "d6b52031-7792-474d-9f6c-842ff457977a",
   "metadata": {},
   "source": [
    "#### 4) Committing the changes to the database (after execution check the database to confirm the table creation)"
   ]
  },
  {
   "cell_type": "code",
   "execution_count": 14,
   "id": "9e43f873-260e-4e9f-bced-5598060c947c",
   "metadata": {
    "tags": []
   },
   "outputs": [],
   "source": [
    "conn.commit()"
   ]
  },
  {
   "cell_type": "markdown",
   "id": "40cfda1d-8d80-4d45-9843-8a3b1ad079c4",
   "metadata": {},
   "source": [
    "# <u>Loading Data Into The Table - DML</u>"
   ]
  },
  {
   "cell_type": "markdown",
   "id": "f883efc0-12c9-4066-9dfb-1785ff059f33",
   "metadata": {},
   "source": [
    "#### ***Why do we check if the row already exists in the database***:\n",
    "* During real world operation this code will be executed and our AWS PostgreSQL database will be populated. \n",
    "* On the first ever call only inserts will occur.\n",
    "* However, during subsequent calls some of the videos retrieved will already exist in the database.\n",
    "* In this scenario we don't want to make duplicate entries, even though this won't be permitted due to Primary Key constraints, instead we want to update the existing rows with the new video statistics.\n",
    "* For example, suppose we made an API call last week and we make a second API call this week, during the week it is likely that the videos will receive greater views, likes and comments.\n",
    "* Therefore, by updating existing entries we can ensure the most up to date information is stored in the database.\n",
    "\n",
    "#### 1) Iterating through each row in the dataframe using iter.rows() > returns ***index*** and a ***series*** which represents the row\n",
    "#### 2) Store each column value in a variable \n",
    "#### 3) Check if the row exists in the database using COUNT(*) where video_id = video_id variable \n",
    "#### 4) Use an if statement to execute a different DML command depending on if the row exists or does not exist in the table\n",
    "\n",
    "* TRUE: Row exists > Update the row with the new video statistic counts\n",
    "* FALSE: Row does not exist > Insert the video details into the table\n",
    "\n",
    "#### 5) Commit the changes/transaction to the connection/database"
   ]
  },
  {
   "cell_type": "markdown",
   "id": "3935ddeb-9b6e-4f3a-8066-a9122c168172",
   "metadata": {
    "tags": []
   },
   "source": [
    "<br>\n",
    "\n",
    "#### Regarding passing parameters to SQL queries:\n",
    "\n",
    "[Documentation](https://www.psycopg.org/psycopg3/docs/basic/params.html) <br>\n",
    "Parameters are outlined by `%s` but they can also be passed as named parameters such as `%(date)s`. <br>\n",
    "The benefit of using named parameters is that they can be defined in any order in the second argument as they are defined as key-value pairs in a dictionary<br>\n",
    "The second argument of `cursor.execute()` must be a tuple or a dictionary - ***a single element tuple is noted as follows (single_element,) not (single_element)***\n"
   ]
  },
  {
   "cell_type": "code",
   "execution_count": 15,
   "id": "cd67b535-52cf-4cec-91a7-3022da9dd528",
   "metadata": {
    "tags": []
   },
   "outputs": [],
   "source": [
    "def update_rows(curr,row):\n",
    "    sql = \"\"\"UPDATE\n",
    "                video\n",
    "            SET\n",
    "                view_count = %s,\n",
    "                like_count = %s,\n",
    "                comment_count = %s\n",
    "            WHERE\n",
    "                video_id = %s;\"\"\"\n",
    "    \n",
    "    curr.execute(sql, (row[\"view_count\"], row[\"like_count\"], row[\"comment_count\"], row[\"video_id\"]))"
   ]
  },
  {
   "cell_type": "code",
   "execution_count": 16,
   "id": "b8d844d2-5e1e-4d20-9e97-fd5da23465e0",
   "metadata": {},
   "outputs": [],
   "source": [
    "def insert_rows(curr, row):\n",
    "    sql = \"\"\"INSERT INTO \n",
    "                video(video_id, video_title, upload_date, view_count, like_count, comment_count)\n",
    "            VALUES (%s, %s, %s, %s, %s, %s);\"\"\"\n",
    "    \n",
    "    curr.execute(sql, (row[\"video_id\"], row[\"video_title\"], row[\"upload_date\"], row[\"view_count\"], row[\"like_count\"], row[\"comment_count\"]))"
   ]
  },
  {
   "cell_type": "code",
   "execution_count": 17,
   "id": "727c6ab6-a8de-4a32-a50a-8a0107a3a9da",
   "metadata": {
    "tags": []
   },
   "outputs": [],
   "source": [
    "def update_or_insert_to_clouddb(dataframe):\n",
    "    for index,row in dataframe.iterrows():\n",
    "\n",
    "        curr.execute(\"\"\"SELECT \n",
    "                            *\n",
    "                        FROM\n",
    "                            video\n",
    "                        WHERE\n",
    "                            video_id = %s;\n",
    "                        \"\"\", (row[\"video_id\"],))\n",
    "\n",
    "        # fetchone() > returns a single tuple. If no results available returns None\n",
    "        if curr.fetchone():\n",
    "            update_rows(curr, row)\n",
    "\n",
    "        else:\n",
    "            insert_rows(curr, row)\n",
    "\n",
    "    conn.commit()"
   ]
  },
  {
   "cell_type": "code",
   "execution_count": 18,
   "id": "dbd47ea8-66cd-44de-81c2-9340617c4cc9",
   "metadata": {
    "tags": []
   },
   "outputs": [],
   "source": [
    "update_or_insert_to_clouddb(results)"
   ]
  }
 ],
 "metadata": {
  "kernelspec": {
   "display_name": "Python 3 (ipykernel)",
   "language": "python",
   "name": "python3"
  },
  "language_info": {
   "codemirror_mode": {
    "name": "ipython",
    "version": 3
   },
   "file_extension": ".py",
   "mimetype": "text/x-python",
   "name": "python",
   "nbconvert_exporter": "python",
   "pygments_lexer": "ipython3",
   "version": "3.11.5"
  }
 },
 "nbformat": 4,
 "nbformat_minor": 5
}
